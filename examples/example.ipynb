{
 "cells": [
  {
   "cell_type": "markdown",
   "metadata": {},
   "source": [
    "# pySidraData Examples\n",
    "\n",
    "This notebook provides a comprehensive overview of how to use the `pySidraData` package to interact with the IBGE API. You'll learn how to:\n",
    "- Initialize the `Client`\n",
    "- Fetch and explore root data\n",
    "- Retrieve metadata for specific aggregate IDs\n",
    "- Convert data to a Pandas DataFrame\n",
    "- Use additional functionalities"
   ]
  },
  {
   "cell_type": "markdown",
   "metadata": {},
   "source": [
    "## Installation\n",
    "\n",
    "If you haven't installed `pySidraData` yet, you can install it using pip:\n",
    "\n",
    "```bash\n",
    "pip install pySidraData\n",
    "```\n",
    "\n",
    "Alternatively, if you're working from the source:\n",
    "\n",
    "```bash\n",
    "git clone https://github.com/yourusername/pySidraData.git\n",
    "cd pySidraData\n",
    "pip install .\n",
    "```"
   ]
  },
  {
   "cell_type": "markdown",
   "metadata": {},
   "source": [
    "## Importing the Package\n",
    "\n",
    "Let's start by importing the `Client` class from the `pySidraData` package."
   ]
  },
  {
   "cell_type": "code",
   "metadata": {},
   "source": [
    "# Import the Client class\n",
    "from pySidraData import Client"
   ],
   "execution_count": 1,
   "outputs": []
  },
  {
   "cell_type": "markdown",
   "metadata": {},
   "source": [
    "## Initializing the Client\n",
    "\n",
    "Create an instance of the `Client` to start interacting with the IBGE API."
   ]
  },
  {
   "cell_type": "code",
   "metadata": {},
   "source": [
    "# Initialize the client\n",
    "client = Client()"
   ],
   "execution_count": 2,
   "outputs": []
  },
  {
   "cell_type": "markdown",
   "metadata": {},
   "source": [
    "## Fetching Root Data\n",
    "\n",
    "Use the `get_root_data` method to fetch and explore the root data from the IBGE API."
   ]
  },
  {
   "cell_type": "code",
   "metadata": {},
   "source": [
    "# Fetch root data\n",
    "root_data = client.get_root_data()\n",
    "\n",
    "# Display the first few research items\n",
    "for research in root_data.research_list[:5]:\n",
    "    print(f\"Research ID: {research.id}, Name: {research.nome}\")\n",
    "    for aggregate in research.agregados[:3]:  # Limiting to 3 aggregates for brevity\n",
    "        print(f\"  Aggregate ID: {aggregate.id}, Name: {aggregate.nome}\")"
   ],
   "execution_count": 3,
   "outputs": [
    {
     "output_type": "stream",
     "name": "stdout",
     "text": [
      "Research ID: 6440, Name: Taxa combinada da desocupação e da força de trabalho potencial - Total, coeficiente de variação, variações em relação aos três trimestres móveis anteriores e ao mesmo trimestre móvel do ano anterior\n",
      "  Aggregate ID: 8418, Name: Taxa combinada da desocupação e da força de trabalho potencial - Total\n",
      "  Aggregate ID: 8419, Name: Coeficiente de variação da taxa combinada da desocupação e da força de trabalho potencial - Total\n",
      "  Aggregate ID: 8420, Name: Variação da taxa combinada da desocupação e da força de trabalho potencial - Total\n",
      "Research ID: 6441, Name: Taxa composta da subutilização da força de trabalho - Total, coeficiente de variação, variações em relação aos três trimestres móveis anteriores e ao mesmo trimestre móvel do ano anterior\n",
      "  Aggregate ID: 8421, Name: Taxa composta da subutilização da força de trabalho - Total\n",
      "  Aggregate ID: 8422, Name: Coeficiente de variação da taxa composta da subutilização da força de trabalho - Total\n",
      "  Aggregate ID: 8423, Name: Variação da taxa composta da subutilização da força de trabalho - Total\n",
      "Research ID: 6785, Name: Taxa de subocupação por insuficiência de horas trabalhadas - Total, coeficiente de variação, variações em relação aos três trimestres móveis anteriores e ao mesmo trimestre móvel do ano anterior\n",
      "  Aggregate ID: 8424, Name: Taxa de subocupação por insuficiência de horas trabalhadas - Total\n",
      "  Aggregate ID: 8425, Name: Coeficiente de variação da taxa de subocupação por insuficiência de horas trabalhadas - Total\n",
      "  Aggregate ID: 8426, Name: Variação da taxa de subocupação por insuficiência de horas trabalhadas - Total\n",
      "Research ID: 6807, Name: Percentual de pessoas desalentadas na população na força de trabalho ou desalentada - Total, coeficiente de variação, variações em relação aos três trimestres móveis anteriores e ao mesmo trimestre móvel do ano anterior\n",
      "  Aggregate ID: 8427, Name: Percentual de pessoas desalentadas na população na força de trabalho ou desalentada - Total\n",
      "  Aggregate ID: 8428, Name: Coeficiente de variação do percentual de pessoas desalentadas na população na força de trabalho ou desalentada - Total\n",
      "  Aggregate ID: 8429, Name: Variação do percentual de pessoas desalentadas na população na força de trabalho ou desalentada - Total\n",
      "Research ID: 8501, Name: Pessoas de 14 anos ou mais de idade, ocupadas na semana de referência - Total, coeficiente de variação, variações percentuais e absolutas em relação aos três trimestres móveis anteriores e ao mesmo trimestre móvel do ano anterior - por situação de informalidade no trabalho principal\n",
      "  Aggregate ID: 8430, Name: Pessoas de 14 anos ou mais de idade, ocupadas na semana de referência - Total\n",
      "  Aggregate ID: 8431, Name: Coeficiente de variação do total de pessoas de 14 anos ou mais de idade, ocupadas na semana de referência - Total\n",
      "  Aggregate ID: 8432, Name: Variação percentual do total de pessoas de 14 anos ou mais de idade, ocupadas na semana de referência - Total\n"
     ]
    }
   ]
  },
  {
   "cell_type": "markdown",
   "metadata": {},
   "source": [
    "## Retrieving Metadata\n",
    "\n",
    "Fetch metadata for a specific aggregate ID using the `get_metadata` method. If you don't have a specific ID, you can use a random one."
   ]
  },
  {
   "cell_type": "code",
   "metadata": {},
   "source": [
    "# Fetch metadata for a specific aggregate ID\n",
    "aggregate_id = '8418'  # Replace with an actual ID from the list\n",
    "metadata = client.get_metadata(aggregate_id)\n",
    "metadata"
   ],
   "execution_count": 4,
   "outputs": [
    {
     "output_type": "execute_result",
     "data": {
      "text/plain": [
       "{'id': 8418,\n",
       " 'variavel': {'id': '2229', 'nome': 'Taxa combinada da desocupação e da força de trabalho potencial'},\n",
       " 'unidadeMedida': {'id': '0000212', 'nome': '%'},\n",
       " 'classificacoes': [],\n",
       " 'agregados': [],\n",
       " 'nivelTerritorial': {'id': 0, 'nome': 'Brasil'},\n",
       " 'periodicidade': {'id': '1', 'nome': 'Trimestral'},\n",
       " 'periodosDisponiveis': ['2012-09-01', '2012-12-01', ...]}"
      ]
     },
     "metadata": {}
    }
   ]
  },
  {
   "cell_type": "markdown",
   "metadata": {},
   "source": [
    "## Converting Root Data to a Pandas DataFrame\n",
    "\n",
    "Use the `get_root_data_as_dataframe` method to convert the root data into a Pandas DataFrame for easier analysis."
   ]
  },
  {
   "cell_type": "code",
   "metadata": {},
   "source": [
    "# Convert root data to a DataFrame\n",
    "df = client.get_root_data_as_dataframe()\n",
    "df.head()"
   ],
   "execution_count": 5,
   "outputs": [
    {
     "output_type": "execute_result",
     "data": {
      "text/html": [
       "<div>\n",
       "<style scoped>\n",
       "    .dataframe tbody tr th:only-of-type {\n",
       "        vertical-align: middle;\n",
       "    }\n",
       "\n",
       "    .dataframe tbody tr th {\n",
       "        vertical-align: top;\n",
       "    }\n",
       "\n",
       "    .dataframe thead th {\n",
       "        text-align: right;\n",
       "    }\n",
       "</style>\n",
       "<table border=\"1\" class=\"dataframe\">\n",
       "  <thead>\n",
       "    <tr style=\"text-align: right;\">\n",
       "      <th></th>\n",
       "      <th>research_id</th>\n",
       "      <th>research_name</th>\n",
       "      <th>aggregate_id</th>\n",
       "      <th>aggregate_name</th>\n",
       "    </tr>\n",
       "  </thead>\n",
       "  <tbody>\n",
       "    <tr>\n",
       "      <th>0</th>\n",
       "      <td>6440</td>\n",
       "      <td>Taxa combinada da desocupação e da força de tra...</td>\n",
       "      <td>8418</td>\n",
       "      <td>Taxa combinada da desocupação e da força de tra...</td>\n",
       "    </tr>\n",
       "    <tr>\n",
       "      <th>1</th>\n",
       "      <td>6440</td>\n",
       "      <td>Taxa combinada da desocupação e da força de tra...</td>\n",
       "      <td>8419</td>\n",
       "      <td>Coeficiente de variação da taxa combinada da de...</td>\n",
       "    </tr>\n",
       "    <tr>\n",
       "      <th>2</th>\n",
       "      <td>6440</td>\n",
       "      <td>Taxa combinada da desocupação e da força de tra...</td>\n",
       "      <td>8420</td>\n",
       "      <td>Variação da taxa combinada da desocupação e da ...</td>\n",
       "    </tr>\n",
       "    <tr>\n",
       "      <th>3</th>\n",
       "      <td>6441</td>\n",
       "      <td>Taxa composta da subutilização da força de trab...</td>\n",
       "      <td>8421</td>\n",
       "      <td>Taxa composta da subutilização da força de trab...</td>\n",
       "    </tr>\n",
       "    <tr>\n",
       "      <th>4</th>\n",
       "      <td>6441</td>\n",
       "      <td>Taxa composta da subutilização da força de trab...</td>\n",
       "      <td>8422</td>\n",
       "      <td>Coeficiente de variação da taxa composta da sub...</td>\n",
       "    </tr>\n",
       "  </tbody>\n",
       "</table>\n",
       "</div>"
      ],
      "text/plain": [
       "  research_id                                       research_name  \\\n",
       "0        6440  Taxa combinada da desocupação e da força de tra...   \n",
       "1        6440  Taxa combinada da desocupação e da força de tra...   \n",
       "2        6440  Taxa combinada da desocupação e da força de tra...   \n",
       "3        6441  Taxa composta da subutilização da força de trab...   \n",
       "4        6441  Taxa composta da subutilização da força de trab...   \n",
       "\n",
       "  aggregate_id                                      aggregate_name  \n",
       "0         8418  Taxa combinada da desocupação e da força de tra...  \n",
       "1         8419  Coeficiente de variação da taxa combinada da de...  \n",
       "2         8420  Variação da taxa combinada da desocupação e da ...  \n",
       "3         8421  Taxa composta da subutilização da força de trab...  \n",
       "4         8422  Coeficiente de variação da taxa composta da sub...  "
      ]
     },
     "metadata": {}
    }
   ]
  },
  {
   "cell_type": "markdown",
   "metadata": {},
   "source": [
    "## Listing All Aggregate IDs\n",
    "\n",
    "You can list all available aggregate IDs using the `list_all_aggregate_ids` method."
   ]
  },
  {
   "cell_type": "code",
   "metadata": {},
   "source": [
    "# List all aggregate IDs\n",
    "aggregate_ids = client.list_all_aggregate_ids()\n",
    "aggregate_ids[:10]  # Display first 10 aggregate IDs"
   ],
   "execution_count": 6,
   "outputs": [
    {
     "output_type": "execute_result",
     "data": {
      "text/plain": [
       "['8418', '8419', '8420', '8421', '8422', '8423', '8424', '8425', '8426', '8427']"
      ]
     },
     "metadata": {}
    }
   ]
  },
  {
   "cell_type": "markdown",
   "metadata": {},
   "source": [
    "## Fetching Metadata for a Random Aggregate ID\n",
    "\n",
    "If you don't have a specific aggregate ID, you can fetch metadata for a random aggregate ID."
   ]
  },
  {
   "cell_type": "code",
   "metadata": {},
   "source": [
    "# Fetch metadata for a random aggregate ID\n",
    "random_metadata = client.get_metadata()\n",
    "random_metadata"
   ],
   "execution_count": 7,
   "outputs": [
    {
     "output_type": "execute_result",
     "data": {
      "text/plain": [
       "{'id': 8419,\n",
       " 'variavel': {'id': '2230', 'nome': 'Coeficiente de variação da taxa combinada da desocupação e da força de trabalho potencial'},\n",
       " 'unidadeMedida': {'id': '0000212', 'nome': '%'},\n",
       " 'classificacoes': [],\n",
       " 'agregados': [],\n",
       " 'nivelTerritorial': {'id': 0, 'nome': 'Brasil'},\n",
       " 'periodicidade': {'id': '1', 'nome': 'Trimestral'},\n",
       " 'periodosDisponiveis': ['2012-09-01', '2012-12-01', ...]}"
      ]
     },
     "metadata": {}
    }
   ]
  },
  {
   "cell_type": "markdown",
   "metadata": {},
   "source": [
    "## Conclusion\n",
    "\n",
    "This notebook has covered the basic usage of the `pySidraData` package. You now know how to:\n",
    "- Initialize and use the `Client` to interact with the IBGE API\n",
    "- Fetch and explore root data\n",
    "- Retrieve metadata for specific or random aggregate IDs\n",
    "- Convert data to a Pandas DataFrame for analysis\n",
    "\n",
    "For more information, please refer to the full documentation or the source code repository."
   ]
  }
 ],
 "metadata": {
  "kernelspec": {
   "display_name": "Python 3",
   "language": "python",
   "name": "python3"
  },
  "language_info": {
   "codemirror_mode": {
    "name": "ipython",
    "version": 3
   },
   "file_extension": ".py",
   "mimetype": "text/x-python",
   "name": "python",
   "nbconvert_exporter": "python",
   "pygments_lexer": "ipython3",
   "version": "3.8.10"
  }
 },
 "nbformat": 4,
 "nbformat_minor": 4
}
