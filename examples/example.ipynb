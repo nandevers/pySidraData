{
 "cells": [
  {
   "cell_type": "markdown",
   "metadata": {},
   "source": [
    "# pySidraData Examples\n",
    "\n",
    "This notebook provides a comprehensive overview of how to use the `pySidraData` package to interact with the IBGE API. You'll learn how to:\n",
    "- Initialize the `Client`\n",
    "- Fetch and explore root data\n",
    "- Retrieve metadata for specific aggregate IDs\n",
    "- Convert data to a Pandas DataFrame\n",
    "- Use additional functionalities"
   ]
  },
  {
   "cell_type": "markdown",
   "metadata": {},
   "source": [
    "## Installation\n",
    "\n",
    "If you haven't installed `pySidraData` yet, you can install it using pip:\n",
    "\n",
    "```bash\n",
    "pip install pySidraData\n",
    "```\n",
    "\n",
    "Alternatively, if you're working from the source:\n",
    "\n",
    "```bash\n",
    "git clone https://github.com/yourusername/pySidraData.git\n",
    "cd pySidraData\n",
    "pip install .\n",
    "```"
   ]
  },
  {
   "cell_type": "markdown",
   "metadata": {},
   "source": [
    "## Importing the Package\n",
    "\n",
    "Let's start by importing the `Client` class from the `pySidraData` package."
   ]
  },
  {
   "cell_type": "code",
   "execution_count": 4,
   "metadata": {},
   "outputs": [],
   "source": [
    "# Import the Client class\n",
    "from pySidraData import Client"
   ]
  },
  {
   "cell_type": "markdown",
   "metadata": {},
   "source": [
    "## Initializing the Client\n",
    "\n",
    "Create an instance of the `Client` to start interacting with the IBGE API."
   ]
  },
  {
   "cell_type": "code",
   "execution_count": 5,
   "metadata": {},
   "outputs": [],
   "source": [
    "# Initialize the client\n",
    "client = Client()"
   ]
  },
  {
   "cell_type": "markdown",
   "metadata": {},
   "source": [
    "## Fetching Root Data\n",
    "\n",
    "Use the `get_root_data` method to fetch and explore the root data from the IBGE API."
   ]
  },
  {
   "cell_type": "code",
   "execution_count": 6,
   "metadata": {},
   "outputs": [
    {
     "name": "stdout",
     "output_type": "stream",
     "text": [
      "Research ID: D5, Name: Áreas Urbanizadas\n",
      "  Aggregate ID: 8418, Name: Áreas urbanizadas, Loteamento vazio, Área total mapeada e Subcategorias\n",
      "Research ID: CL, Name: Cadastro Central de Empresas\n",
      "  Aggregate ID: 1685, Name: Unidades locais, empresas e outras organizações atuantes, pessoal ocupado total, pessoal ocupado assalariado, pessoal assalariado médio, salários e outras remunerações e salário médio mensal – série encerrada em 2021\n",
      "  Aggregate ID: 1732, Name: Dados gerais das empresas por faixas de pessoal ocupado total, segundo seção, divisão e grupo da classificação de atividades, em nível Brasil, Grandes Regiões e Unidades da Federação da sede da empresa\n",
      "  Aggregate ID: 1733, Name: Dados gerais das unidades locais por faixas de pessoal ocupado total, segundo seção, divisão e grupo da classificação de atividades, em nível Brasil, Grandes Regiões e Unidades da Federação\n",
      "Research ID: CA, Name: Censo Agropecuário\n",
      "  Aggregate ID: 1005, Name: Número de estabelecimentos agropecuários com eletrodomésticos, por tipo de eletroméstico utilizado, condição do produtor em relação às terras, direção do estabelecimento, nível de instrução da pessoa que dirige o estabelecimento, grupos de atividade econômica e grupos de área total\n",
      "  Aggregate ID: 1006, Name: Número de estabelecimentos agropecuários com produção animal integrada à indústria, por tipo de produção animal integrada à indústria, condição do produtor em relação às terras, tipos de insumos pagos pelo integrador, nível de instrução da pessoa que dirige o estabelecimento e grupos de área total\n",
      "  Aggregate ID: 1008, Name: Número de estabelecimentos agropecuários com uso de agrotóxicos por tipo de equipamento utilizado na aplicação do agrotóxico, condição do produtor em relação às terras, nível de instrução da pessoa que dirige o estabelecimento, orinteção técnica, uso de equipamentos de proteção e indicativo de pessoas intoxicadas\n",
      "Research ID: ME, Name: Censo Comum do Mercosul, Bolívia e Chile\n",
      "  Aggregate ID: 1221, Name: População residente, por sexo e grupos quinquenais de idade\n",
      "  Aggregate ID: 2059, Name: Domicílios e População residente por espécie do domicílio\n",
      "  Aggregate ID: 2060, Name: Domicílios particulares permanentes ocupados somente por uma família por indicador de situação habitacional (CALSAV-M), segundo o sexo da pessoa responsável pela família\n",
      "Research ID: CD, Name: Censo Demográfico\n",
      "  Aggregate ID: 102, Name: Mulheres de 10 anos ou mais de idade, que viviam em união conjugal, total e que tiveram filhos, e os filhos tidos pelas mulheres de 10 anos ou mais de idade, que viviam em união conjugal, os nascidos vivos, os nascidos vivos no período de referência de 12 meses, nascidos mortos e os que estavam vivos na data de referência, segundo a situação do domicílio, a natureza da união conjugal e os grupos de idade das mulheres\n",
      "  Aggregate ID: 103, Name: Mulheres de 10 anos ou mais de idade, que viviam em união conjugal e tiveram filhos nascidos vivos, por número de filhos tidos nascidos vivos, segundo a situação do domicílio, a natureza da união conjugal e os grupos de idade das mulheres\n",
      "  Aggregate ID: 105, Name: Filhos tidos nascidos vivos das mulheres de 10 anos ou mais de idade, que viviam em união conjugal, segundo a situação do domicílio, a natureza da união conjugal e os grupos de idade das mulheres\n"
     ]
    }
   ],
   "source": [
    "# Fetch root data\n",
    "root_data = client.get_root_data()\n",
    "\n",
    "# Display the first few research items\n",
    "for research in root_data.research_list[:5]:\n",
    "    print(f\"Research ID: {research.id}, Name: {research.nome}\")\n",
    "    for aggregate in research.agregados[:3]:  # Limiting to 3 aggregates for brevity\n",
    "        print(f\"  Aggregate ID: {aggregate.id}, Name: {aggregate.nome}\")"
   ]
  },
  {
   "cell_type": "markdown",
   "metadata": {},
   "source": [
    "## Retrieving Metadata\n",
    "\n",
    "Fetch metadata for a specific aggregate ID using the `get_metadata` method. If you don't have a specific ID, you can use a random one."
   ]
  },
  {
   "cell_type": "code",
   "execution_count": 7,
   "metadata": {},
   "outputs": [
    {
     "data": {
      "text/plain": [
       "{'id': 8418,\n",
       " 'nome': 'Áreas urbanizadas, Loteamento vazio, Área total mapeada e Subcategorias',\n",
       " 'URL': 'https://sidra.ibge.gov.br/tabela/8418',\n",
       " 'pesquisa': 'Áreas Urbanizadas',\n",
       " 'assunto': 'Geral',\n",
       " 'periodicidade': {'frequencia': 'anual', 'inicio': 2019, 'fim': 2019},\n",
       " 'nivelTerritorial': {'Administrativo': ['N2', 'N6', 'N3'],\n",
       "  'Especial': ['N23', 'N132'],\n",
       "  'IBGE': []},\n",
       " 'variaveis': [{'id': 12747,\n",
       "   'nome': 'Áreas urbanizadas densas',\n",
       "   'unidade': 'Quilômetros quadrados',\n",
       "   'sumarizacao': ['nivelTerritorial']},\n",
       "  {'id': 12748,\n",
       "   'nome': 'Áreas urbanizadas pouco densas',\n",
       "   'unidade': 'Quilômetros quadrados',\n",
       "   'sumarizacao': ['nivelTerritorial']},\n",
       "  {'id': 12749,\n",
       "   'nome': 'Total de áreas urbanizadas',\n",
       "   'unidade': 'Quilômetros quadrados',\n",
       "   'sumarizacao': ['nivelTerritorial']},\n",
       "  {'id': 12750,\n",
       "   'nome': 'Loteamento vazio',\n",
       "   'unidade': 'Quilômetros quadrados',\n",
       "   'sumarizacao': ['nivelTerritorial']},\n",
       "  {'id': 12751,\n",
       "   'nome': 'Área total mapeada',\n",
       "   'unidade': 'Quilômetros quadrados',\n",
       "   'sumarizacao': ['nivelTerritorial']},\n",
       "  {'id': 12752,\n",
       "   'nome': 'Outros equipamentos urbanos',\n",
       "   'unidade': 'Quilômetros quadrados',\n",
       "   'sumarizacao': ['nivelTerritorial']},\n",
       "  {'id': 12753,\n",
       "   'nome': 'Vazios intraurbanos',\n",
       "   'unidade': 'Quilômetros quadrados',\n",
       "   'sumarizacao': ['nivelTerritorial']},\n",
       "  {'id': 12754,\n",
       "   'nome': 'Vazios remanescentes',\n",
       "   'unidade': 'Quilômetros quadrados',\n",
       "   'sumarizacao': ['nivelTerritorial']}],\n",
       " 'classificacoes': []}"
      ]
     },
     "execution_count": 7,
     "metadata": {},
     "output_type": "execute_result"
    }
   ],
   "source": [
    "# Fetch metadata for a specific aggregate ID\n",
    "aggregate_id = '8418'  # Replace with an actual ID from the list\n",
    "metadata = client.get_metadata(aggregate_id)\n",
    "metadata"
   ]
  },
  {
   "cell_type": "markdown",
   "metadata": {},
   "source": [
    "## Converting Root Data to a Pandas DataFrame\n",
    "\n",
    "Use the `get_root_data_as_dataframe` method to convert the root data into a Pandas DataFrame for easier analysis."
   ]
  },
  {
   "cell_type": "code",
   "execution_count": 8,
   "metadata": {},
   "outputs": [
    {
     "data": {
      "text/html": [
       "<div>\n",
       "<style scoped>\n",
       "    .dataframe tbody tr th:only-of-type {\n",
       "        vertical-align: middle;\n",
       "    }\n",
       "\n",
       "    .dataframe tbody tr th {\n",
       "        vertical-align: top;\n",
       "    }\n",
       "\n",
       "    .dataframe thead th {\n",
       "        text-align: right;\n",
       "    }\n",
       "</style>\n",
       "<table border=\"1\" class=\"dataframe\">\n",
       "  <thead>\n",
       "    <tr style=\"text-align: right;\">\n",
       "      <th></th>\n",
       "      <th>research_id</th>\n",
       "      <th>research_name</th>\n",
       "      <th>aggregate_id</th>\n",
       "      <th>aggregate_name</th>\n",
       "    </tr>\n",
       "  </thead>\n",
       "  <tbody>\n",
       "    <tr>\n",
       "      <th>0</th>\n",
       "      <td>D5</td>\n",
       "      <td>Áreas Urbanizadas</td>\n",
       "      <td>8418</td>\n",
       "      <td>Áreas urbanizadas, Loteamento vazio, Área tota...</td>\n",
       "    </tr>\n",
       "    <tr>\n",
       "      <th>1</th>\n",
       "      <td>CL</td>\n",
       "      <td>Cadastro Central de Empresas</td>\n",
       "      <td>1685</td>\n",
       "      <td>Unidades locais, empresas e outras organizaçõe...</td>\n",
       "    </tr>\n",
       "    <tr>\n",
       "      <th>2</th>\n",
       "      <td>CL</td>\n",
       "      <td>Cadastro Central de Empresas</td>\n",
       "      <td>1732</td>\n",
       "      <td>Dados gerais das empresas por faixas de pessoa...</td>\n",
       "    </tr>\n",
       "    <tr>\n",
       "      <th>3</th>\n",
       "      <td>CL</td>\n",
       "      <td>Cadastro Central de Empresas</td>\n",
       "      <td>1733</td>\n",
       "      <td>Dados gerais das unidades locais por faixas de...</td>\n",
       "    </tr>\n",
       "    <tr>\n",
       "      <th>4</th>\n",
       "      <td>CL</td>\n",
       "      <td>Cadastro Central de Empresas</td>\n",
       "      <td>1734</td>\n",
       "      <td>Dados gerais das unidades locais por faixas de...</td>\n",
       "    </tr>\n",
       "  </tbody>\n",
       "</table>\n",
       "</div>"
      ],
      "text/plain": [
       "  research_id                 research_name aggregate_id  \\\n",
       "0          D5             Áreas Urbanizadas         8418   \n",
       "1          CL  Cadastro Central de Empresas         1685   \n",
       "2          CL  Cadastro Central de Empresas         1732   \n",
       "3          CL  Cadastro Central de Empresas         1733   \n",
       "4          CL  Cadastro Central de Empresas         1734   \n",
       "\n",
       "                                      aggregate_name  \n",
       "0  Áreas urbanizadas, Loteamento vazio, Área tota...  \n",
       "1  Unidades locais, empresas e outras organizaçõe...  \n",
       "2  Dados gerais das empresas por faixas de pessoa...  \n",
       "3  Dados gerais das unidades locais por faixas de...  \n",
       "4  Dados gerais das unidades locais por faixas de...  "
      ]
     },
     "execution_count": 8,
     "metadata": {},
     "output_type": "execute_result"
    }
   ],
   "source": [
    "# Convert root data to a DataFrame\n",
    "df = client.get_root_data_as_dataframe()\n",
    "df.head()"
   ]
  },
  {
   "cell_type": "markdown",
   "metadata": {},
   "source": [
    "## Listing All Aggregate IDs\n",
    "\n",
    "You can list all available aggregate IDs using the `list_all_aggregate_ids` method."
   ]
  },
  {
   "cell_type": "code",
   "execution_count": 9,
   "metadata": {},
   "outputs": [
    {
     "data": {
      "text/plain": [
       "['8418',\n",
       " '1685',\n",
       " '1732',\n",
       " '1733',\n",
       " '1734',\n",
       " '1735',\n",
       " '2869',\n",
       " '2933',\n",
       " '2934',\n",
       " '2937']"
      ]
     },
     "execution_count": 9,
     "metadata": {},
     "output_type": "execute_result"
    }
   ],
   "source": [
    "# List all aggregate IDs\n",
    "aggregate_ids = client.list_all_aggregate_ids()\n",
    "aggregate_ids[:10]  # Display first 10 aggregate IDs"
   ]
  },
  {
   "cell_type": "markdown",
   "metadata": {},
   "source": [
    "## Fetching Metadata for a Random Aggregate ID\n",
    "\n",
    "If you don't have a specific aggregate ID, you can fetch metadata for a random aggregate ID."
   ]
  },
  {
   "cell_type": "code",
   "execution_count": 11,
   "metadata": {},
   "outputs": [
    {
     "data": {
      "text/plain": [
       "{'id': 2227,\n",
       " 'nome': 'Número de municípios, total e os que possuem instrumentos reguladores do serviço de manejo de águas pluviais, por tipo de instrumento',\n",
       " 'URL': 'https://sidra.ibge.gov.br/tabela/2227',\n",
       " 'pesquisa': 'Pesquisa Nacional de Saneamento Básico',\n",
       " 'assunto': 'Manejo de águas pluviais',\n",
       " 'periodicidade': {'frequencia': 'anual', 'inicio': 2000, 'fim': 2000},\n",
       " 'nivelTerritorial': {'Administrativo': ['N1', 'N2', 'N6', 'N14', 'N13', 'N3'],\n",
       "  'Especial': [],\n",
       "  'IBGE': []},\n",
       " 'variaveis': [{'id': 1161,\n",
       "   'nome': 'Municípios que possuem instrumentos reguladores do serviço de manejo de águas pluviais',\n",
       "   'unidade': 'Unidades',\n",
       "   'sumarizacao': []},\n",
       "  {'id': 1001161,\n",
       "   'nome': 'Municípios que possuem instrumentos reguladores do serviço de manejo de águas pluviais - percentual do total geral',\n",
       "   'unidade': '%',\n",
       "   'sumarizacao': []}],\n",
       " 'classificacoes': [{'id': 12126,\n",
       "   'nome': 'Tipo de instrumento regulador do serviço',\n",
       "   'sumarizacao': {'status': True, 'excecao': []},\n",
       "   'categorias': [{'id': 101270,\n",
       "     'nome': 'Total geral de municípios',\n",
       "     'unidade': None,\n",
       "     'nivel': 0},\n",
       "    {'id': 101271,\n",
       "     'nome': 'Total de municípios que possuem instrumentos reguladores do serviço de drenagem urbana',\n",
       "     'unidade': None,\n",
       "     'nivel': 0},\n",
       "    {'id': 101272,\n",
       "     'nome': 'Plano diretor de drenagem urbana',\n",
       "     'unidade': None,\n",
       "     'nivel': 0},\n",
       "    {'id': 101273,\n",
       "     'nome': 'Plano urbanístico global para a área urbana',\n",
       "     'unidade': None,\n",
       "     'nivel': 0},\n",
       "    {'id': 101274,\n",
       "     'nome': 'Lei de uso e ocupação do solo',\n",
       "     'unidade': None,\n",
       "     'nivel': 0},\n",
       "    {'id': 101275,\n",
       "     'nome': 'Legislação municipal ou de região metropolitana',\n",
       "     'unidade': None,\n",
       "     'nivel': 0},\n",
       "    {'id': 101276, 'nome': 'Outro', 'unidade': None, 'nivel': 0},\n",
       "    {'id': 101277, 'nome': 'Sem declaração', 'unidade': None, 'nivel': 0}]}]}"
      ]
     },
     "execution_count": 11,
     "metadata": {},
     "output_type": "execute_result"
    }
   ],
   "source": [
    "# Fetch metadata for a random aggregate ID\n",
    "random_metadata = client.get_metadata()\n",
    "random_metadata"
   ]
  },
  {
   "cell_type": "markdown",
   "metadata": {},
   "source": [
    "## Conclusion\n",
    "\n",
    "This notebook has covered the basic usage of the `pySidraData` package. You now know how to:\n",
    "- Initialize and use the `Client` to interact with the IBGE API\n",
    "- Fetch and explore root data\n",
    "- Retrieve metadata for specific or random aggregate IDs\n",
    "- Convert data to a Pandas DataFrame for analysis\n",
    "\n",
    "For more information, please refer to the full documentation or the source code repository."
   ]
  }
 ],
 "metadata": {
  "kernelspec": {
   "display_name": "Python 3",
   "language": "python",
   "name": "python3"
  },
  "language_info": {
   "codemirror_mode": {
    "name": "ipython",
    "version": 3
   },
   "file_extension": ".py",
   "mimetype": "text/x-python",
   "name": "python",
   "nbconvert_exporter": "python",
   "pygments_lexer": "ipython3",
   "version": "3.10.14"
  }
 },
 "nbformat": 4,
 "nbformat_minor": 4
}
