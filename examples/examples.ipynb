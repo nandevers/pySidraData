{
 "cells": [
  {
   "cell_type": "markdown",
   "id": "0cbff3ee",
   "metadata": {},
   "source": [
    "\n",
    "# Enhanced pySidraData Tutorial for Data Analysts\n",
    "\n",
    "This tutorial demonstrates how to use `pySidraData` to access IBGE SIDRA data, focusing on practical aspects relevant to data analysts. \n",
    "We'll explore various functionalities provided by the `Client` class, perform data analysis, visualize data, and interact with the data in an exploratory manner.\n"
   ]
  },
  {
   "cell_type": "code",
   "execution_count": null,
   "id": "7f965070",
   "metadata": {},
   "outputs": [],
   "source": [
    "\n",
    "from pySidraData.client import Client\n",
    "import pandas as pd\n",
    "import matplotlib.pyplot as plt\n",
    "\n",
    "# Initialize the SIDRA client\n",
    "client = Client()\n"
   ]
  },
  {
   "cell_type": "markdown",
   "id": "aaab12ca",
   "metadata": {},
   "source": [
    "## Step 1: Fetch and Understand Metadata"
   ]
  },
  {
   "cell_type": "code",
   "execution_count": null,
   "id": "d39107db",
   "metadata": {},
   "outputs": [],
   "source": [
    "\n",
    "# Fetch and display root data\n",
    "root_data = client.get_root_data()\n",
    "root_data_df = client.get_root_data_as_dataframe()\n",
    "root_data_df.head()\n"
   ]
  },
  {
   "cell_type": "markdown",
   "id": "494323a9",
   "metadata": {},
   "source": [
    "## Step 2: List All Aggregate IDs"
   ]
  },
  {
   "cell_type": "code",
   "execution_count": null,
   "id": "73708e47",
   "metadata": {},
   "outputs": [],
   "source": [
    "\n",
    "# List all available aggregate IDs\n",
    "aggregate_ids = client.list_all_aggregate_ids()\n",
    "aggregate_ids[:10]  # Display first 10 aggregate IDs\n"
   ]
  },
  {
   "cell_type": "markdown",
   "id": "36eb6009",
   "metadata": {},
   "source": [
    "## Step 3: Fetch Metadata for a Specific Aggregate ID"
   ]
  },
  {
   "cell_type": "code",
   "execution_count": null,
   "id": "eaf8bcb0",
   "metadata": {},
   "outputs": [],
   "source": [
    "\n",
    "# Fetch metadata for a specific aggregate ID\n",
    "metadata = client.get_metadata(aggregate_id=aggregate_ids[0])\n",
    "metadata\n"
   ]
  },
  {
   "cell_type": "markdown",
   "id": "54697e6e",
   "metadata": {},
   "source": [
    "## Step 4: Fetch Data from a SIDRA Table"
   ]
  },
  {
   "cell_type": "code",
   "execution_count": null,
   "id": "ab393c31",
   "metadata": {},
   "outputs": [],
   "source": [
    "\n",
    "# Fetch data from a SIDRA table\n",
    "table_code = aggregate_ids[0]  # Using the first aggregate ID as an example\n",
    "data = client.get_data(table_code=table_code)\n",
    "data.head()\n"
   ]
  },
  {
   "cell_type": "markdown",
   "id": "c5604ad9",
   "metadata": {},
   "source": [
    "## Step 5: Data Visualization"
   ]
  },
  {
   "cell_type": "code",
   "execution_count": null,
   "id": "b7a2c2c0",
   "metadata": {},
   "outputs": [],
   "source": [
    "\n",
    "# Visualize the first few rows of the fetched data\n",
    "data.plot(kind='bar', x=data.columns[0], y=data.columns[1], figsize=(10, 5))\n",
    "plt.title('Data Visualization Example')\n",
    "plt.xlabel('X-axis')\n",
    "plt.ylabel('Y-axis')\n",
    "plt.show()\n"
   ]
  },
  {
   "cell_type": "markdown",
   "id": "f67c659e",
   "metadata": {},
   "source": [
    "## Step 6: Error Handling Example"
   ]
  },
  {
   "cell_type": "code",
   "execution_count": null,
   "id": "af7d228f",
   "metadata": {},
   "outputs": [],
   "source": [
    "\n",
    "# Example of error handling for an invalid aggregate ID\n",
    "try:\n",
    "    invalid_metadata = client.get_metadata(aggregate_id='invalid_id')\n",
    "except ValueError as e:\n",
    "    print(f\"Error: {e}\")\n"
   ]
  },
  {
   "cell_type": "markdown",
   "id": "36838b51",
   "metadata": {},
   "source": [
    "## Step 7: Interactive Exploration with ipywidgets"
   ]
  },
  {
   "cell_type": "code",
   "execution_count": null,
   "id": "7ebff422",
   "metadata": {},
   "outputs": [],
   "source": [
    "\n",
    "from ipywidgets import interact\n",
    "\n",
    "# Function to fetch and display data based on selected aggregate ID\n",
    "def display_data(aggregate_id):\n",
    "    data_preview = client.get_data_preview(table_code=aggregate_id, limit=5)\n",
    "    print(data_preview)\n",
    "\n",
    "# Interactive widget for selecting aggregate ID\n",
    "interact(display_data, aggregate_id=aggregate_ids)\n"
   ]
  },
  {
   "cell_type": "markdown",
   "id": "e1cd1ac9",
   "metadata": {},
   "source": [
    "## Step 8: Data Export Example"
   ]
  },
  {
   "cell_type": "code",
   "execution_count": null,
   "id": "6e305236",
   "metadata": {},
   "outputs": [],
   "source": [
    "\n",
    "# Export fetched data to a CSV file\n",
    "data.to_csv('fetched_data.csv', index=False)\n",
    "print('Data exported to fetched_data.csv')\n"
   ]
  },
  {
   "cell_type": "markdown",
   "id": "ef7aa481",
   "metadata": {},
   "source": [
    "\n",
    "## Conclusion and Next Steps\n",
    "\n",
    "In this tutorial, we've explored various functionalities of the `pySidraData` library for accessing and analyzing IBGE SIDRA data. \n",
    "We've covered how to fetch metadata, retrieve data from SIDRA tables, handle errors, and visualize data. You can further explore \n",
    "these functionalities by modifying parameters and using different aggregate IDs. Happy analyzing!\n"
   ]
  }
 ],
 "metadata": {},
 "nbformat": 4,
 "nbformat_minor": 5
}
